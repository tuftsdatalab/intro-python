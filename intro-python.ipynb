{
 "cells": [
  {
   "cell_type": "markdown",
   "metadata": {
    "colab_type": "text",
    "id": "view-in-github"
   },
   "source": [
    "[![Open in Colab](https://tuftsdatalab.github.io/assets/badges/colab.svg)](https://colab.research.google.com/github/tuftsdatalab/intro-python/blob/master/intro-python.ipynb)&nbsp;\n",
    "[![Download Notebook](https://tuftsdatalab.github.io/assets/badges/jupyter.svg)](https://cdn.jsdelivr.net/gh/tuftsdatalab/intro-python@master/intro-python.ipynb)&nbsp;\n",
    "[![View on Github](https://tuftsdatalab.github.io/assets/badges/github.svg)](https://github.com/tuftsdatalab/intro-python)&nbsp;\n",
    "[![Download Zip](https://tuftsdatalab.github.io/assets/badges/download.svg)](https://github.com/tuftsdatalab/intro-python/archive/master.zip)&nbsp;\n",
    "![total size](https://img.shields.io/github/repo-size/tuftsdatalab/intro-python?label=total%20size)&nbsp;\n",
    "![last updated](https://img.shields.io/github/last-commit/tuftsdatalab/intro-python?label=last%20updated)&nbsp;\n",
    "[![datalab.tufts.edu](https://tuftsdatalab.github.io/assets/badges/datalab.svg)](https://sites.tufts.edu/datalab)&nbsp;\n",
    "[![@TuftsDataLab](https://tuftsdatalab.github.io/assets/badges/twitter.svg)](https://twitter.com/intent/follow?screen_name=tuftsdatalab)"
   ]
  },
  {
   "cell_type": "markdown",
   "metadata": {
    "colab_type": "text",
    "id": "6DFAxibfbXbl"
   },
   "source": [
    "# A Gentle Introduction to Python\n",
    "\n",
    "---\n",
    "\n",
    "**A Tufts University Data Lab Wokrshop**  \n",
    "Written by Uku-Kaspar Uustalu\n",
    "\n",
    "Python resoucres: [go.tufts.edu/python](https://sites.tufts.edu/datalab/python/)  \n",
    "Questions: [Data Lab Python Exchange on Piazza](https://piazza.com/tufts/other/datalabpy/)  \n",
    "Consultations: [datalab-support@elist.tufts.edu](mailto:datalab-support@elist.tufts.edu)  \n",
    "Feedback: [uku-kaspar.uustalu@tufts.edu](mailto:uku-kaspar.uustalu@tufts.edu)\n",
    "\n",
    "---"
   ]
  },
  {
   "cell_type": "markdown",
   "metadata": {},
   "source": [
    "### Google Colab Setup\n",
    "If you are using Google Colab, please do the following **before proceeding**:\n",
    "1. If you are not already signed into your Google account, click on *Sign In* in the upper-right corner and sign in with your Google credentials. You must be signed in with a Google account to be able to run notebooks in Google Colab.\n",
    "2. Save a copy of the notebook to your Google Drive by clicking the *Copy to Drive* button above or selecting *File > Save a copy in Drive*. A copy of this notebook saved to your Google Drive will pop up. Close the original file and use the copy for the rest of the workshop. Now any changes you make will be saved to your Google Drive. Feel free to rename the copy if desired. You can still run the notebook without saving it to your Google Drive, but your progress and any changes you make will not be retained when you close the notebook.\n",
    "\n",
    "*You might also see a message warning you that this notebook was not authored by Google and hence might contain malicious code. You can trust Data Lab notebooks, so click __Run Anyway__. But when running other third-party notebooks, you should definitely review the code beforehand. __Do not run code you do not understand!__*\n",
    "\n",
    "---"
   ]
  },
  {
   "cell_type": "markdown",
   "metadata": {
    "colab_type": "text",
    "id": "U0jBRAQNbXbp"
   },
   "source": [
    "## Introduction to Python Notebooks\n",
    "\n",
    "Python Notebooks are made up of **cells**. There are three different kinds of cells:\n",
    "1. **Code** cells for Python code.\n",
    "2. **Markdown** cells for text, images, LaTeX equations, etc.\n",
    "3. **Raw** cells for additional non-Python code that modifies the appearance or behaviour of the notebook when exporting it to a different format.\n",
    "\n",
    "Each cell can be run (and re-run) independently.\\\n",
    "To run a cell, select it by clicking on it and then press **Shift+Enter** or **Ctrl+Enter**.\\\n",
    "After running a cell, the following cell gets automatically selected.\n",
    "\n",
    "This is a **Markdown cell**. Markdown is a lighteight language for formatting text.\\\n",
    "To see the code behind a Markdown cell, **double-click** on it.\\\n",
    "To render the Markdown code back into formatted text, you must run the cell.\n",
    "\n",
    "Here are some useful Markdown references:\n",
    "- [Quick cheatsheet of commands](https://github.com/adam-p/markdown-here/wiki/Markdown-Cheatsheet)\n",
    "- [Google Colab Markdown guide](https://colab.research.google.com/notebooks/markdown_guide.ipynb)\n",
    "- [Jupyter Notebook Markdown guide](https://jupyter-notebook.readthedocs.io/en/stable/examples/Notebook/Working%20With%20Markdown%20Cells.html)"
   ]
  },
  {
   "cell_type": "code",
   "execution_count": 4,
   "metadata": {
    "colab": {},
    "colab_type": "code",
    "id": "8dZm0dB7bXbs"
   },
   "outputs": [
    {
     "name": "stdout",
     "output_type": "stream",
     "text": [
      "Hello World!\n"
     ]
    }
   ],
   "source": [
    "# This is a code cell\n",
    "# Select this cell and press Shift+Enter or Ctrl+Enter to run it\n",
    "\n",
    "# In Python, the hashtag symbol denotes a comment line\n",
    "# Anything on a comment line is ignored by Python, but could be useful for humans\n",
    "# Adding detailed comments to your code is very important for debugging and sharing\n",
    "\n",
    "# The first command we learned: print\n",
    "print(\"Hello World!\")"
   ]
  },
  {
   "cell_type": "markdown",
   "metadata": {
    "colab_type": "text",
    "id": "CnQh-qKWbXb9"
   },
   "source": [
    "&#8593;&#8593;&#8593;\\\n",
    "The **output** of code cells appears right here in the notebook just below the corresponding cell.\\\n",
    "Output is also stored in the notebook. Any output of a **saved** notebook will still be there after you close it and open it up again.\\\n",
    "If you run a cell again, the output will be overwritten. To clear outputs, go to *Edit > Clear All Outputs*.\n",
    "\n",
    "To learn more about Python Notebooks:\n",
    "- [Overview of Google Colab Notebooks](https://colab.research.google.com/notebooks/basic_features_overview.ipynb)\n",
    "- [A Detailed Tutorial on Jupyter Notebooks](https://www.dataquest.io/blog/jupyter-notebook-tutorial/)\n",
    "\n",
    "---"
   ]
  },
  {
   "cell_type": "markdown",
   "metadata": {
    "colab_type": "text",
    "id": "88b8ph5ibXcC"
   },
   "source": [
    "## Understanding how Outputs Work"
   ]
  },
  {
   "cell_type": "code",
   "execution_count": null,
   "metadata": {
    "colab": {},
    "colab_type": "code",
    "id": "5Lo7AxtPbXcG"
   },
   "outputs": [],
   "source": [
    "spam = 500\n",
    "spam * 2"
   ]
  },
  {
   "cell_type": "code",
   "execution_count": null,
   "metadata": {
    "colab": {},
    "colab_type": "code",
    "id": "jPjmX7ENbXcT"
   },
   "outputs": [],
   "source": [
    "spam"
   ]
  },
  {
   "cell_type": "code",
   "execution_count": null,
   "metadata": {
    "colab": {},
    "colab_type": "code",
    "id": "jpW9una2bXca"
   },
   "outputs": [],
   "source": [
    "new_spam = spam * 2"
   ]
  },
  {
   "cell_type": "code",
   "execution_count": null,
   "metadata": {
    "colab": {},
    "colab_type": "code",
    "id": "zz6_G92vbXcd"
   },
   "outputs": [],
   "source": [
    "spam\n",
    "new_spam"
   ]
  },
  {
   "cell_type": "code",
   "execution_count": null,
   "metadata": {
    "colab": {},
    "colab_type": "code",
    "id": "AFBQDYJ4bXch"
   },
   "outputs": [],
   "source": [
    "new_spam\n",
    "new_spam = new_spam * 2 // 3  # remeber, this is floor division"
   ]
  },
  {
   "cell_type": "code",
   "execution_count": null,
   "metadata": {
    "colab": {},
    "colab_type": "code",
    "id": "iJSfQrvIbXck"
   },
   "outputs": [],
   "source": [
    "print(\"now we have\", new_spam, \"cans of spam\")\n",
    "print(\"previously we had\", spam, \"cans of spam\")"
   ]
  },
  {
   "cell_type": "markdown",
   "metadata": {
    "colab_type": "text",
    "id": "8wMcDLCrbXco"
   },
   "source": [
    "### Throwback: Enter your variables (name + age) from before and run the cell"
   ]
  },
  {
   "cell_type": "code",
   "execution_count": null,
   "metadata": {
    "colab": {},
    "colab_type": "code",
    "id": "L0kV15DObXco"
   },
   "outputs": [],
   "source": [
    "name = 'Uku' # remember, in Python you can use either ' or \" to denote strings\n",
    "age = 100\n",
    "\n",
    "print(\"My name is\", name, \"and I'm\", age)\n",
    "\n",
    "# run this cell, then change the variables to your name and age and run it again"
   ]
  },
  {
   "cell_type": "markdown",
   "metadata": {
    "colab_type": "text",
    "id": "JWZaZPp4bXcr"
   },
   "source": [
    "### Here's where things start to get interesting: Lists\n",
    "\n",
    "* A **list** is a collection/sequence of values that perserves order\n",
    "* Values can be added to or removed from a list and the entire list can be reordered\n",
    "* You use brackets, **[ ]**, to denote a list in Python\n",
    "* Individual elements are separated by commas\n"
   ]
  },
  {
   "cell_type": "code",
   "execution_count": null,
   "metadata": {
    "colab": {},
    "colab_type": "code",
    "id": "G7XaSuspbXcs"
   },
   "outputs": [],
   "source": [
    "# Example of a list\n",
    "grades = [94, 87, 85, 89, 72, 98, 96, 82, 92]\n",
    "grades"
   ]
  },
  {
   "cell_type": "code",
   "execution_count": null,
   "metadata": {
    "colab": {},
    "colab_type": "code",
    "id": "9oNtFOeHbXcv"
   },
   "outputs": [],
   "source": [
    "# We can check what type of variable/structure 'grades' is\n",
    "type(grades)"
   ]
  },
  {
   "cell_type": "code",
   "execution_count": null,
   "metadata": {
    "colab": {},
    "colab_type": "code",
    "id": "W_WfjenxbXcy"
   },
   "outputs": [],
   "source": [
    "# We can access elements of a list using list[index]\n",
    "# Remember, Python uses zero-based indexing\n",
    "# Let's take a look at the frist element\n",
    "grades[0]"
   ]
  },
  {
   "cell_type": "code",
   "execution_count": null,
   "metadata": {},
   "outputs": [],
   "source": [
    "# We can also rewrite list elements using list[index]\n",
    "# Let's say we got to retake the third exam and we impoved our score by 6 points\n",
    "grades[2] = grades[2] + 6\n",
    "grades"
   ]
  },
  {
   "cell_type": "code",
   "execution_count": null,
   "metadata": {
    "colab": {},
    "colab_type": "code",
    "id": "clbaJdq8bXc2"
   },
   "outputs": [],
   "source": [
    "# I just took another test and got a 70 :(\n",
    "# Let's add it to the list anyways\n",
    "# To do this we use the append method\n",
    "\n",
    "grades.append(70)\n",
    "\n",
    "# Now take a look at grades again\n",
    "grades"
   ]
  },
  {
   "cell_type": "code",
   "execution_count": null,
   "metadata": {
    "colab": {},
    "colab_type": "code",
    "id": "LC0tUCSdbXc5"
   },
   "outputs": [],
   "source": [
    "# To get the number of elements in a list, we can use the len function\n",
    "len(grades)"
   ]
  },
  {
   "cell_type": "code",
   "execution_count": null,
   "metadata": {
    "colab": {},
    "colab_type": "code",
    "id": "njZmox-abXc_"
   },
   "outputs": [],
   "source": [
    "# To look at a range of list elements, we can use slicing\n",
    "grades[0:3]"
   ]
  },
  {
   "cell_type": "code",
   "execution_count": null,
   "metadata": {},
   "outputs": [],
   "source": [
    "# note that we can also omit the zero\n",
    "grades[:0]"
   ]
  },
  {
   "cell_type": "code",
   "execution_count": null,
   "metadata": {},
   "outputs": [],
   "source": [
    "# But what if we want to see the three highest grades?\n",
    "# Let us try the function sorted\n",
    "\n",
    "sorted(grades)"
   ]
  },
  {
   "cell_type": "markdown",
   "metadata": {},
   "source": [
    "Is there any way to change the order from ascending to descending?\n",
    "\n",
    "Let's take a look at the documentation: https://docs.python.org/3/library/functions.html#sorted"
   ]
  },
  {
   "cell_type": "code",
   "execution_count": null,
   "metadata": {},
   "outputs": [],
   "source": [
    "sorted(grades, reverse = True)"
   ]
  },
  {
   "cell_type": "code",
   "execution_count": null,
   "metadata": {},
   "outputs": [],
   "source": [
    "# Now we can extract the three highest grades\n",
    "sorted(grades, reverse = True)[0:3]"
   ]
  },
  {
   "cell_type": "markdown",
   "metadata": {
    "colab_type": "text",
    "id": "KqExzhRNbXd4"
   },
   "source": [
    "### Functions and methods\n",
    "\n",
    "A quick search on StackOverflow reveals that you can also use the sort() method to sort a list.\n",
    "\n",
    "But what is the difference?"
   ]
  },
  {
   "cell_type": "code",
   "execution_count": null,
   "metadata": {},
   "outputs": [],
   "source": [
    "sorted(grades)  # this is a function"
   ]
  },
  {
   "cell_type": "code",
   "execution_count": null,
   "metadata": {},
   "outputs": [],
   "source": [
    "grades  # the function does not modify the original list, it outputs a copy"
   ]
  },
  {
   "cell_type": "code",
   "execution_count": null,
   "metadata": {},
   "outputs": [],
   "source": [
    "grades.sort()  # this is a method, it does not output anything"
   ]
  },
  {
   "cell_type": "code",
   "execution_count": null,
   "metadata": {},
   "outputs": [],
   "source": [
    "grades  # instead, it modifies the original list"
   ]
  },
  {
   "cell_type": "markdown",
   "metadata": {
    "colab_type": "text",
    "id": "KqExzhRNbXd4"
   },
   "source": [
    "### Strings as Lists\n",
    "\n",
    "You can use slicing and indexing to select letters out "
   ]
  },
  {
   "cell_type": "code",
   "execution_count": null,
   "metadata": {},
   "outputs": [],
   "source": [
    "food = 'egg and spam'"
   ]
  },
  {
   "cell_type": "code",
   "execution_count": null,
   "metadata": {},
   "outputs": [],
   "source": [
    "# we can select single letters (remember that the first letter is at index 0)\n",
    "print(food[0])\n",
    "print(food[1])\n",
    "print(food[2])"
   ]
  },
  {
   "cell_type": "code",
   "execution_count": null,
   "metadata": {},
   "outputs": [],
   "source": [
    "# or we can select a range of letters\n",
    "print(food[:3])\n",
    "print(food[4:7])\n",
    "print(food[8:])"
   ]
  },
  {
   "cell_type": "markdown",
   "metadata": {
    "colab_type": "text",
    "id": "KqExzhRNbXd4"
   },
   "source": [
    "### Storing data with labels: Dictornaries\n",
    "\n",
    "What if want to keep a record of students in a class, their class year, their grades, and wheter they are a graduate or an undergraduate student?\n",
    "\n",
    "This is where dictionaries come in handy. They allow us to store related data with labels, also known as **key-value** pairs.<br/>Dictionaries are donted with curly braces **{ }** in python."
   ]
  },
  {
   "cell_type": "code",
   "execution_count": null,
   "metadata": {
    "colab": {},
    "colab_type": "code",
    "id": "Qrn7ZExBbXd5"
   },
   "outputs": [],
   "source": [
    "# Example of a dictionary\n",
    "student = {'first': 'John', 'last': 'Smith', 'year': 2020, 'grades':[98, 94, 95, 86]}\n",
    "student"
   ]
  },
  {
   "cell_type": "code",
   "execution_count": null,
   "metadata": {
    "colab": {},
    "colab_type": "code",
    "id": "0tfmEUplbXd7"
   },
   "outputs": [],
   "source": [
    "# To access data from a dictionary you need to use the keys\n",
    "student['first']"
   ]
  },
  {
   "cell_type": "code",
   "execution_count": null,
   "metadata": {
    "colab": {},
    "colab_type": "code",
    "id": "uAAKmGAjbXd9"
   },
   "outputs": [],
   "source": [
    "# Let's say we want to know what grade John got on the second exam\n",
    "student['grades'][2]"
   ]
  },
  {
   "cell_type": "markdown",
   "metadata": {
    "colab_type": "text",
    "id": "WGmbepABbXdC"
   },
   "source": [
    "### Functions\n",
    "\n",
    "**Functions** take an input, do something with it, and provide an output. "
   ]
  },
  {
   "cell_type": "code",
   "execution_count": null,
   "metadata": {
    "colab": {},
    "colab_type": "code",
    "id": "zNcI16SEbXdD"
   },
   "outputs": [],
   "source": [
    "# Example of a function whose output is the square of a number\n",
    "def square(x):\n",
    "    sq = x * x\n",
    "    return sq"
   ]
  },
  {
   "cell_type": "code",
   "execution_count": null,
   "metadata": {
    "colab": {},
    "colab_type": "code",
    "id": "CV1DDgWLbXdH"
   },
   "outputs": [],
   "source": [
    "square(5)"
   ]
  },
  {
   "cell_type": "code",
   "execution_count": null,
   "metadata": {
    "colab": {},
    "colab_type": "code",
    "id": "a0ZFCbaobXdK"
   },
   "outputs": [],
   "source": [
    "square(3)"
   ]
  },
  {
   "cell_type": "markdown",
   "metadata": {
    "colab_type": "text",
    "id": "MB6IicY_bXdU"
   },
   "source": [
    "#### What happens if you call **square** on a list?"
   ]
  },
  {
   "cell_type": "code",
   "execution_count": null,
   "metadata": {
    "colab": {},
    "colab_type": "code",
    "id": "edyK2HOSbXdV"
   },
   "outputs": [],
   "source": [
    "square(grades)"
   ]
  },
  {
   "cell_type": "markdown",
   "metadata": {
    "colab_type": "text",
    "id": "WAJDELUWbXdY"
   },
   "source": [
    "It's important to think about the **type** of the input"
   ]
  },
  {
   "cell_type": "markdown",
   "metadata": {
    "colab_type": "text",
    "id": "BNwuw2VnbXdb"
   },
   "source": [
    "### Loops\n",
    "\n",
    "**For** loops allow us to iterate over elements of a list\n",
    "\n",
    "**While** loops allow us to repeat a code segment as long as a certain condition is met"
   ]
  },
  {
   "cell_type": "code",
   "execution_count": null,
   "metadata": {
    "colab": {},
    "colab_type": "code",
    "id": "FohQu7iwbXdc"
   },
   "outputs": [],
   "source": [
    "# Let's say we want to print out each of my grades one by one\n",
    "\n",
    "for grade in grades:\n",
    "    print(grade)"
   ]
  },
  {
   "cell_type": "code",
   "execution_count": null,
   "metadata": {
    "colab": {},
    "colab_type": "code",
    "id": "TQv5ZIgWbXdj"
   },
   "outputs": [],
   "source": [
    "# Some of the low grades make us really sad\n",
    "# Let's create an illusion of happiness by adding five points to each grade before printing them out\n",
    "\n",
    "for grade in grades:\n",
    "    grade = grade + 5\n",
    "    print(grade)"
   ]
  },
  {
   "cell_type": "code",
   "execution_count": null,
   "metadata": {
    "colab": {},
    "colab_type": "code",
    "id": "a6O7rGewbXdm"
   },
   "outputs": [],
   "source": [
    "# Did that chage our original grades?\n",
    "grades"
   ]
  },
  {
   "cell_type": "code",
   "execution_count": null,
   "metadata": {
    "colab": {},
    "colab_type": "code",
    "id": "mFeHbOrFbXdf"
   },
   "outputs": [],
   "source": [
    "# There really are not any good examples of while loops at the beginner level\n",
    "# So here is one that just prints \"spam\" ten times\n",
    "\n",
    "count = 0  # how many times we have printed spam\n",
    "\n",
    "while count < 10:\n",
    "    print('spam')\n",
    "    count = count + 1   # we must update the count to eventually exit the loop\n",
    "    \n",
    "# note that we could also achieve this using a for loop on a random 10-element list"
   ]
  },
  {
   "cell_type": "markdown",
   "metadata": {
    "colab_type": "text",
    "id": "eeTCQuzlbXdt"
   },
   "source": [
    "### Conditionals\n",
    "\n",
    "**if ... else** blocks can be used to run different segments of code depending on specified criteria"
   ]
  },
  {
   "cell_type": "code",
   "execution_count": null,
   "metadata": {
    "colab": {},
    "colab_type": "code",
    "id": "WMGT8pakbXdv"
   },
   "outputs": [],
   "source": [
    "# Let's say we want to know what letter grades our scores correspond to\n",
    "# Knowing the letter grade ranges, we can write a function that maps a score to a letter grade\n",
    "\n",
    "def getLetterGrade(score):\n",
    "    if score < 60:\n",
    "        return 'F'\n",
    "    elif score < 70:\n",
    "        return 'D'\n",
    "    elif score < 80:\n",
    "        return 'C'\n",
    "    elif score < 90:\n",
    "        return 'B'\n",
    "    else:\n",
    "        return 'A'\n",
    "    \n",
    "# Remember that conditional statements are evaluated in order"
   ]
  },
  {
   "cell_type": "code",
   "execution_count": null,
   "metadata": {
    "colab": {},
    "colab_type": "code",
    "id": "kewlHOogbXdz"
   },
   "outputs": [],
   "source": [
    "# Now we can use a loop to get a list of letter grades from our scores\n",
    "\n",
    "letter_grades = []\n",
    "\n",
    "for grade in grades:\n",
    "    letter_grades.append(getLetterGrade(grade))\n",
    "    \n",
    "letter_grades"
   ]
  },
  {
   "cell_type": "markdown",
   "metadata": {
    "colab_type": "text",
    "id": "Zz4jF__DbXeP"
   },
   "source": [
    "## Libraries and Random Examples \n",
    "\n",
    "Modules, packages, and libraries are  collections of functions around a theme\n",
    "\n",
    "**NumPy** is a key Python library for scientific computing\n",
    "* It defines an array, a type of data structure very useful for data analysis\n",
    "* Has lots of your favorite math functions\n",
    "* http://www.numpy.org/\n",
    "\n",
    "**matplotlib** is the de-facto plotting (aka visualization) library for Python\n",
    "* It's what you use when you want to look at your data visually\n",
    "* Inspired by MATLAB \n",
    "* https://matplotlib.org/\n",
    "\n",
    "**Pandas** is a library purposefully built for data analysis\n",
    "* Defines the **Series** and **DataFrame** data structures (similar to R), both of which are very useful for looking at data\n",
    "* Has an awesome name\n",
    "* https://pandas.pydata.org/ \n",
    "\n",
    "**Seaborn** extends the visualization capabilities of matplotlib\n",
    "* https://seaborn.pydata.org/index.html\n",
    "\n",
    "**scikit-learn** is a popular machine learning library\n",
    "* http://scikit-learn.org/stable/index.html"
   ]
  },
  {
   "cell_type": "code",
   "execution_count": null,
   "metadata": {
    "colab": {},
    "colab_type": "code",
    "id": "_u1uZ8rCbXeP"
   },
   "outputs": [],
   "source": [
    "# Here's how you import modules, packages, or libraries\n",
    "import numpy as np\n",
    "import matplotlib.pyplot as plt\n",
    "import pandas as pd"
   ]
  },
  {
   "cell_type": "code",
   "execution_count": null,
   "metadata": {
    "colab": {},
    "colab_type": "code",
    "id": "7jLBTDIIbXeT"
   },
   "outputs": [],
   "source": [
    "# Let's create some test data using NumPy functions\n",
    "\n",
    "# Create an array and fill it with evenly spaced numbers from 0 to 2pi\n",
    "x = np.linspace(0, 2 * np.pi, num = 100, dtype = float)\n",
    "\n",
    "# What are num and dtype?\n",
    "# Check out the documentation: https://docs.scipy.org/doc/numpy/reference/generated/numpy.linspace.html"
   ]
  },
  {
   "cell_type": "code",
   "execution_count": null,
   "metadata": {},
   "outputs": [],
   "source": [
    "x.size  # numpy arrays have an attribute 'size' that equals the number of elements"
   ]
  },
  {
   "cell_type": "code",
   "execution_count": null,
   "metadata": {},
   "outputs": [],
   "source": [
    "# Let's calculate the sine of x\n",
    "y = np.sin(x)"
   ]
  },
  {
   "cell_type": "code",
   "execution_count": null,
   "metadata": {
    "colab": {},
    "colab_type": "code",
    "id": "fCGLmxg9bXeX"
   },
   "outputs": [],
   "source": [
    "# Now let's plot it using matplotlib\n",
    "plt.plot(x, y, '*-')\n",
    "plt.xlabel('x')\n",
    "plt.ylabel('y')\n",
    "\n",
    "# The '*-' is just a shorthand for a line graph with tick marks"
   ]
  }
 ],
 "metadata": {
  "colab": {
   "include_colab_link": true,
   "name": "IntroPython.ipynb",
   "provenance": []
  },
  "kernelspec": {
   "display_name": "Python 3",
   "language": "python",
   "name": "python3"
  },
  "language_info": {
   "codemirror_mode": {
    "name": "ipython",
    "version": 3
   },
   "file_extension": ".py",
   "mimetype": "text/x-python",
   "name": "python",
   "nbconvert_exporter": "python",
   "pygments_lexer": "ipython3",
   "version": "3.7.6"
  }
 },
 "nbformat": 4,
 "nbformat_minor": 4
}
